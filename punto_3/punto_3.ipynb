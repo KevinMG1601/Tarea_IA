{
 "cells": [
  {
   "cell_type": "code",
   "execution_count": 3,
   "id": "d1e3d7b6",
   "metadata": {},
   "outputs": [
    {
     "name": "stdout",
     "output_type": "stream",
     "text": [
      "Bias oculta 3:\n",
      "  Δb3 = 0.0009472608667449962  → nuevo valor = 3.300947260866745\n",
      "\n",
      "Peso w(2,4) (oculta 2 → salida 4):\n",
      "  Δw24 = 0.0002995195007031279  → nuevo valor = 1.0002995195007032\n"
     ]
    }
   ],
   "source": [
    "import numpy as np\n",
    "\n",
    "Wo = np.array([\n",
    "    [ 2.3,  2.0,  0.9,  1.2],\n",
    "    [ 0.7, -0.4,  0.5,  1.0],\n",
    "    [-1.0,  1.1, -0.3,  0.8],\n",
    "    [ 1.2,  1.5,  2.5, -0.3]\n",
    "])\n",
    "Bco = np.array([-1.0, 0.6, 3.3, -1.0])\n",
    "\n",
    "Ws = np.array([\n",
    "    [ 1.3, -1.1, -0.6,  1.2],\n",
    "    [ 0.7,  1.4,  2.0,  1.0],\n",
    "    [-0.4,  1.6,  0.8,  1.5],\n",
    "    [ 0.8,  1.5, -0.5, -0.3]\n",
    "])\n",
    "Bcs = np.array([0.4, -0.7, 1.2, 0.9])\n",
    "\n",
    "X = np.array([ 3.0, -2.0,  1.0, -1.5])\n",
    "D = np.array([0.5, 1.0, 0.5, 1.0])\n",
    "eta = 0.70\n",
    "\n",
    "def sigmoid(z): return 1/(1+np.exp(-z))\n",
    "def dsigmoid(y): return y*(1-y)\n",
    "def tanh(z): return np.tanh(z)\n",
    "def dtanh(a): return 1 - a**2\n",
    "\n",
    "n_h = X @ Wo + Bco\n",
    "a_h = tanh(n_h)\n",
    "\n",
    "n_o = a_h @ Ws + Bcs\n",
    "y   = sigmoid(n_o)\n",
    "\n",
    "delta_o = (D - y) * dsigmoid(y)\n",
    "delta_h = dtanh(a_h) * (delta_o @ Ws.T)\n",
    "\n",
    "delta_b3 = eta * delta_h[2]\n",
    "new_b3 = Bco[2] + delta_b3\n",
    "\n",
    "delta_w24 = eta * delta_o[3] * a_h[1]   \n",
    "new_w24 = Ws[1,3] + delta_w24\n",
    "\n",
    "print(\"Bias oculta 3:\")\n",
    "print(\"  Δb3 =\", delta_b3, \" → nuevo valor =\", new_b3)\n",
    "\n",
    "print(\"\\nPeso w(2,4) (oculta 2 → salida 4):\")\n",
    "print(\"  Δw24 =\", delta_w24, \" → nuevo valor =\", new_w24)\n"
   ]
  }
 ],
 "metadata": {
  "kernelspec": {
   "display_name": "venv",
   "language": "python",
   "name": "python3"
  },
  "language_info": {
   "codemirror_mode": {
    "name": "ipython",
    "version": 3
   },
   "file_extension": ".py",
   "mimetype": "text/x-python",
   "name": "python",
   "nbconvert_exporter": "python",
   "pygments_lexer": "ipython3",
   "version": "3.12.2"
  }
 },
 "nbformat": 4,
 "nbformat_minor": 5
}
