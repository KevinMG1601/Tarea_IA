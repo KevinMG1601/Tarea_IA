{
 "cells": [
  {
   "cell_type": "code",
   "execution_count": 2,
   "id": "bd1f88cf",
   "metadata": {},
   "outputs": [
    {
     "name": "stdout",
     "output_type": "stream",
     "text": [
      "Punto (0, 1) → salida=0 (ocultas=[1 1 1 1 1 1])\n",
      "Punto (1, 0.5) → salida=0 (ocultas=[1 1 1 1 1 1])\n",
      "Punto (2.5, 1) → salida=1 (ocultas=[1 0 1 1 0 1])\n",
      "Punto (1, 3) → salida=1 (ocultas=[1 1 1 0 1 1])\n"
     ]
    }
   ],
   "source": [
    "import numpy as np\n",
    "\n",
    "def step(u):\n",
    "    return np.where(u >= 0, 1, 0)\n",
    "\n",
    "W_hidden = np.array([\n",
    "    [ 1,  0],   \n",
    "    [-1,  0],   \n",
    "    [ 0,  1],   \n",
    "    [ 0, -1],   \n",
    "    [-1,  1],   \n",
    "    [ 1,  1]    \n",
    "])\n",
    "b_hidden = np.array([1, 2, 0, 2, 1, -1])\n",
    "\n",
    "W_out = np.array([-1, -1, -1, -1, -1, -1])  \n",
    "b_out = 5.5\n",
    "\n",
    "def mlp_forward(x):\n",
    "    h_net = W_hidden @ x + b_hidden\n",
    "    h = step(h_net)      \n",
    "    y_net = W_out @ h + b_out\n",
    "    y = step(y_net)       \n",
    "    return y, h\n",
    "\n",
    "puntos = [\n",
    "    (0,1),   \n",
    "    (1,0.5), \n",
    "    (2.5,1), \n",
    "    (1,3)    \n",
    "]\n",
    "\n",
    "for p in puntos:\n",
    "    salida, h = mlp_forward(np.array(p))\n",
    "    print(f\"Punto {p} → salida={salida} (ocultas={h})\")\n"
   ]
  }
 ],
 "metadata": {
  "kernelspec": {
   "display_name": "venv",
   "language": "python",
   "name": "python3"
  },
  "language_info": {
   "codemirror_mode": {
    "name": "ipython",
    "version": 3
   },
   "file_extension": ".py",
   "mimetype": "text/x-python",
   "name": "python",
   "nbconvert_exporter": "python",
   "pygments_lexer": "ipython3",
   "version": "3.12.2"
  }
 },
 "nbformat": 4,
 "nbformat_minor": 5
}
